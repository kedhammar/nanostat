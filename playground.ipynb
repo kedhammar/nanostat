{
 "cells": [
  {
   "cell_type": "markdown",
   "metadata": {},
   "source": [
    "Playground notebook for using BeautifulSoup to parse ONT run .html report files"
   ]
  },
  {
   "cell_type": "markdown",
   "metadata": {},
   "source": [
    "Uses\n",
    "- [Beautiful Soup](https://realpython.com/beautiful-soup-web-scraper-python/#step-3-parse-html-code-with-beautiful-soup)\n",
    "- re"
   ]
  },
  {
   "cell_type": "code",
   "execution_count": 1,
   "metadata": {},
   "outputs": [],
   "source": [
    "from bs4 import BeautifulSoup as bs\n",
    "import re\n",
    "from pandas import DataFrame\n",
    "\n",
    "soup = bs(open(\"run_reports/report.html\",\"r\"),\"html.parser\")"
   ]
  },
  {
   "cell_type": "code",
   "execution_count": null,
   "metadata": {},
   "outputs": [],
   "source": [
    "def scrape_stats(soup, class_name, result_index = 0):\n",
    "    ''' Search bs4 object for HTML class occurence and return list of strings '''\n",
    "    s = soup.find_all(\"div\", class_=class_name)[result_index].text\n",
    "    l = [e.strip() for e in s.split(\"\\n\") if e.strip()]\n",
    "    return l"
   ]
  },
  {
   "cell_type": "code",
   "execution_count": null,
   "metadata": {},
   "outputs": [],
   "source": [
    "# Use scrape_stats to append a big list containing relevant lines\n",
    "\n",
    "total = []\n",
    "\n",
    "# Headers followed by pairs\n",
    "total += scrape_stats(soup, \"accordion content\", 0) # Remove \"written to disk\" and shuffle some lines\n",
    "total += scrape_stats(soup, \"accordion content\", 1)\n",
    "\n",
    "# Values w/o keys\n",
    "total += scrape_stats(soup, \"run-details\")[0].split(\" · \")\n",
    "\n",
    "# Key : Value\n",
    "total += scrape_stats(soup, \"protocol-run-id\")"
   ]
  },
  {
   "cell_type": "code",
   "execution_count": 1,
   "metadata": {},
   "outputs": [],
   "source": [
    "# MANUALLY curate list\n",
    "\n",
    "# Remove lines that are headers or superfluent\n",
    "to_remove = ['DATA OUTPUT',\n",
    "             'Data written to disk',\n",
    "             'BASECALLING',\n",
    "             'Pass',\n",
    "             'Fail',\n",
    "             'RUN DURATION',\n",
    "             'RUN SETUP',\n",
    "             'RUN SETTINGS',\n",
    "             'DATA OUTPUT SETTINGS',\n",
    "             'SOFTWARE VERSIONS']\n",
    "\n",
    "for i in to_remove:\n",
    "    total.remove(i)\n",
    "\n",
    "# Manually re-shuffle lines pertaining to Q score threshold and pass/fail\n",
    "p = re.compile(\"min Q score\\: [\\d]+\")\n",
    "q_score = p.search(\"\".join(total)).group()[13:]\n",
    "\n",
    "i = total.index(f'Bases called (min Q score: {q_score})')\n",
    "total[i] = 'Bases passed'\n",
    "total.insert(i+2, 'Bases failed')\n",
    "total.insert(i, \"Q score\")\n",
    "total.insert(i+1, q_score)\n",
    "\n",
    "## Curate based on whether key-value pairs in the list are \n",
    "two_lines, missing_keys, one_line = total[:-5], total[-5:-1], total[-1]\n",
    "\n",
    "data = {key : val for key, val in zip(two_lines[::2], two_lines[1::2])}\n",
    "\n",
    "keys = [\"Run duration\",\n",
    "        \"Experiment name\",\n",
    "        \"Sample name\",\n",
    "        \"Instrument position\"]\n",
    "for k, v in zip(keys, missing_keys):\n",
    "    data[k] = v\n",
    "\n",
    "data[one_line.split(\": \")[0]] = one_line.split(\": \")[1]"
   ]
  },
  {
   "cell_type": "code",
   "execution_count": null,
   "metadata": {},
   "outputs": [],
   "source": [
    "dd = {k:[v] for k, v in zip(data.keys(), data.values())}\n",
    "df = DataFrame(data = dd)\n",
    "\n",
    "df.set_index(\"Protocol run ID\")"
   ]
  }
 ],
 "metadata": {
  "kernelspec": {
   "display_name": "Python 3.8.11 ('alfred')",
   "language": "python",
   "name": "python3"
  },
  "language_info": {
   "codemirror_mode": {
    "name": "ipython",
    "version": 3
   },
   "file_extension": ".py",
   "mimetype": "text/x-python",
   "name": "python",
   "nbconvert_exporter": "python",
   "pygments_lexer": "ipython3",
   "version": "3.8.11"
  },
  "orig_nbformat": 4,
  "vscode": {
   "interpreter": {
    "hash": "0fe7c1456621898fb2537deb4ea7bf4ba13838aecd2d50f2219ad663306032e3"
   }
  }
 },
 "nbformat": 4,
 "nbformat_minor": 2
}
